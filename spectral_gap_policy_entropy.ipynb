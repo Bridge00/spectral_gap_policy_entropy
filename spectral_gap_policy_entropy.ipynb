{
  "nbformat": 4,
  "nbformat_minor": 0,
  "metadata": {
    "colab": {
      "provenance": []
    },
    "kernelspec": {
      "name": "python3",
      "display_name": "Python 3"
    },
    "language_info": {
      "name": "python"
    }
  },
  "cells": [
    {
      "cell_type": "code",
      "execution_count": null,
      "metadata": {
        "id": "4uQzQkHD2a2j"
      },
      "outputs": [],
      "source": [
        "import numpy as np\n",
        "import matplotlib.pyplot as plt"
      ]
    },
    {
      "cell_type": "code",
      "source": [
        "def get_deterministic_transition(grid_length = 25, walls = []):\n",
        "    matrix = []\n",
        "    num_states = int(grid_length ** 2)\n",
        "    for state in range(num_states):\n",
        "      state_transitions = []\n",
        "      for action in range(5):\n",
        "        transitions_given_action = [0] * num_states\n",
        "        if action == 0: # up\n",
        "          if state - grid_length < 0 or state - grid_length in walls:\n",
        "            transitions_given_action[state] = 1\n",
        "          else:\n",
        "            transitions_given_action[state - grid_length] = 1\n",
        "\n",
        "        elif action == 1: # left\n",
        "          if (state - 1) % grid_length > state % grid_length or \\\n",
        "                              (state - 1)  in walls:\n",
        "            transitions_given_action[state] = 1\n",
        "          else:\n",
        "            transitions_given_action[state - 1] = 1\n",
        "\n",
        "        elif action == 2: # down\n",
        "          if state + grid_length > num_states - 1 or state + grid_length in walls:\n",
        "            transitions_given_action[state] = 1\n",
        "          else:\n",
        "            transitions_given_action[state + grid_length] = 1\n",
        "\n",
        "        elif action == 3: # right\n",
        "          if (state + 1) % grid_length < state % grid_length or \\\n",
        "                                  (state + 1) in walls:\n",
        "            transitions_given_action[state] = 1\n",
        "          else:\n",
        "            transitions_given_action[state + 1] = 1\n",
        "\n",
        "        else:\n",
        "          transitions_given_action[state] = 1\n",
        "        state_transitions.append(transitions_given_action)\n",
        "      matrix.append(state_transitions)\n",
        "\n",
        "    return matrix\n"
      ],
      "metadata": {
        "id": "Tvw7Js5J7vH-"
      },
      "execution_count": null,
      "outputs": []
    },
    {
      "cell_type": "code",
      "source": [
        "def get_transition_matrix(grid_length = 25, walls = [],\n",
        "                          ):\n",
        "  num_states = int(grid_length ** 2)\n",
        "\n",
        "\n",
        "  return get_deterministic_transition(grid_length, walls = walls)\n"
      ],
      "metadata": {
        "id": "ffzF2Eme4k9y"
      },
      "execution_count": 1,
      "outputs": []
    },
    {
      "cell_type": "code",
      "source": [
        "def get_spectral_gap(grid_length = 25, prob = .2, num_actions = 5,\n",
        "                     transition_matrix = None,\n",
        "                    walls = []):\n",
        "\n",
        "  num_states = int(grid_length) ** 2\n",
        "\n",
        "  if transition_matrix is None:\n",
        "    transition_matrix = get_transition_matrix(grid_length, walls = walls)\n",
        "\n",
        "  pi = np.array([np.array([prob] + [(1-prob)/(num_actions-1)] * (num_actions-1)) for _ in range(num_states)])\n",
        "\n",
        "  avg_entropy = -np.sum([p * np.log(p) for p in pi[0]])\n",
        "  transition_matrix = np.array(transition_matrix)\n",
        "  s, a, _ = transition_matrix.shape\n",
        "\n",
        "  p = np.zeros((transition_matrix.shape[0], transition_matrix.shape[2]))\n",
        "\n",
        "  for i in range(transition_matrix.shape[0]):\n",
        "    for j in range(transition_matrix.shape[2]):\n",
        "      for k in range(transition_matrix.shape[1]):\n",
        "\n",
        "        p[i, j] += transition_matrix[i, k, j] * pi[i, k]\n",
        "\n",
        "\n",
        "  eigenvalues, _ = np.linalg.eig(p)\n",
        "  sorted_eigenvalues = np.sort(eigenvalues)\n",
        "  second_largest_eig =  sorted_eigenvalues[-2]\n",
        "\n",
        "  return avg_entropy, 1 - second_largest_eig"
      ],
      "metadata": {
        "id": "XmRQSt2q3Dcq"
      },
      "execution_count": null,
      "outputs": []
    },
    {
      "cell_type": "code",
      "source": [
        "four_walls_25_25 = [12, 37, 62, 87, 112, 137, 162, 187, 212, 237, 387, 412, 437,\n",
        "                    462, 487, 512, 537, 562, 587, 612, 300, 301, 302, 303, 304,\n",
        "                    305, 306, 307, 308, 309, 315, 316, 317, 318, 319, 320, 321,\n",
        "                    322, 323, 324]\n"
      ],
      "metadata": {
        "id": "IUum-WVq93d1"
      },
      "execution_count": null,
      "outputs": []
    },
    {
      "cell_type": "code",
      "source": [
        "grid_length = 25\n",
        "\n",
        "\n",
        "\n",
        "transition_matrix = get_transition_matrix(grid_length,\n",
        "                                          walls = four_walls_25_25)\n",
        "\n",
        "deter_data = [get_spectral_gap(grid_length = grid_length, prob = p, transition_matrix = transition_matrix) \\\n",
        "          for p in np.linspace(.20, 1, 100, endpoint=False)]\n",
        "\n",
        "\n",
        "\n",
        "transition_matrix = get_transition_matrix(grid_length)\n",
        "\n",
        "deter_data_no_walls = [get_spectral_gap(grid_length = grid_length, prob = p, transition_matrix = transition_matrix) \\\n",
        "          for p in np.linspace(.20, 1, 100, endpoint=False)]\n",
        "\n",
        "def plot_scatter(data, label):\n",
        "    x = [point[0] for point in data]\n",
        "    y = [point[1] for point in data]\n",
        "    plt.scatter(x, y, label = label)\n",
        "    plt.xlabel('Policy Entropy')\n",
        "    plt.ylabel('Spectral Gap of Markov Chain')\n",
        "\n",
        "\n",
        "\n",
        "plot_scatter(deter_data, '4 walls')\n",
        "\n",
        "plot_scatter(deter_data_no_walls, 'No walls')\n",
        "plt.legend()\n",
        "plt.savefig('eig_ent.png')\n",
        "plt.show()"
      ],
      "metadata": {
        "id": "vGXCL4QSw4FK"
      },
      "execution_count": null,
      "outputs": []
    }
  ]
}